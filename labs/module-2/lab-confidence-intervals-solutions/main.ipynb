{
 "cells": [
  {
   "cell_type": "markdown",
   "metadata": {},
   "source": [
    "# Challenge 1\n",
    "We want to estimate the average size of the men of a country with a confidence level of 80%. Assuming that the standard deviation of the sizes in the population is 4, get the confidence interval with a sample of men selected randomly, whose heights are:\n",
    "\n",
    "167 167 168 168 168 169 171 172 173 175 175 175 177 182 195"
   ]
  },
  {
   "cell_type": "code",
   "execution_count": 2,
   "metadata": {},
   "outputs": [
    {
     "name": "stdout",
     "output_type": "stream",
     "text": [
      "[172.1446883511612, 174.78864498217214]\n"
     ]
    }
   ],
   "source": [
    "import numpy as np\n",
    "import math\n",
    "sample = [167,167,168,168,168,169,171,172,173,175,175,175,177,182,195]\n",
    "sample_mean = np.mean(sample)\n",
    "score = 1.28\n",
    "std_dev = 4\n",
    "\n",
    "conf_int = [(sample_mean- (score*(std_dev/math.sqrt(len(sample))))) ,(sample_mean+ (score*(std_dev/math.sqrt(len(sample)))))]\n",
    "print (conf_int)\n"
   ]
  },
  {
   "cell_type": "markdown",
   "metadata": {},
   "source": [
    "# Challenge 3 - To practice more\n",
    "For the same example above, calculate a confidence interval for the variance at 90% level."
   ]
  },
  {
   "cell_type": "code",
   "execution_count": 3,
   "metadata": {},
   "outputs": [
    {
     "name": "stdout",
     "output_type": "stream",
     "text": [
      "[171.77288194992528, 175.16045138340806]\n"
     ]
    }
   ],
   "source": [
    "score = 1.64\n",
    "\n",
    "conf_int = [(sample_mean- (score*(std_dev/math.sqrt(len(sample))))) ,(sample_mean+ (score*(std_dev/math.sqrt(len(sample)))))]\n",
    "print (conf_int)"
   ]
  },
  {
   "cell_type": "markdown",
   "metadata": {},
   "source": [
    "# Challenge 2 \n",
    "In a sample of 105 shops selected randomly from an area, we note that 27 of them have had losses in this month. Get an confidence interval for the proportion of businesses in the area with losses, to a confidence level \n",
    "* of 80% and confidence level.\n",
    "* of 90%.\n"
   ]
  },
  {
   "cell_type": "code",
   "execution_count": 4,
   "metadata": {},
   "outputs": [
    {
     "name": "stdout",
     "output_type": "stream",
     "text": [
      "80% Confidence interval: \n",
      "[0.20254756371805777, 0.31173815056765647]\n",
      "90% Confidence interval: \n",
      "[0.18719263744233294, 0.3270930768433813]\n"
     ]
    }
   ],
   "source": [
    "total = 105\n",
    "loss = 27\n",
    "score80 = 1.28\n",
    "score90 = 1.64\n",
    "\n",
    "loss_per = (27/105)\n",
    "gain_per = 1-loss_per\n",
    "\n",
    "conf_int80 = [(loss_per- (score80*(math.sqrt((loss_per*gain_per)/total)))) ,(loss_per+ (score80*math.sqrt((loss_per*gain_per/total))))]\n",
    "print ('80% Confidence interval: ')\n",
    "print (conf_int80)\n",
    "\n",
    "conf_int90 = [(loss_per- (score90*math.sqrt(((loss_per*gain_per)/total)))) ,(loss_per+ (score90*math.sqrt((loss_per*gain_per/total))))]\n",
    "print ('90% Confidence interval: ')\n",
    "print (conf_int90)\n",
    "\n"
   ]
  },
  {
   "cell_type": "markdown",
   "metadata": {},
   "source": [
    "# Challenge 4 - To practice more\n",
    "The sulfuric acid content of 7 similar containers is 9.8, 10.2, 10.4, 9.8, 10.0, 10.2 and 9.6 liters. Calculate a 95% confidence interval for the average content of all containers assuming an approximately normal distribution.\n",
    "\n",
    "\n"
   ]
  },
  {
   "cell_type": "code",
   "execution_count": 5,
   "metadata": {},
   "outputs": [
    {
     "name": "stdout",
     "output_type": "stream",
     "text": [
      "[9.46360664018192, 10.403060026484747]\n"
     ]
    }
   ],
   "source": [
    "from scipy.stats import t\n",
    "sample = [9.8,10.2,9.8,10.0,10.2,9.6]\n",
    "sample_mean = np.mean(sample)\n",
    "std_dev = np.std(sample)\n",
    "\n",
    "\n",
    "alpha = .025\n",
    "tstat = t.ppf(alpha, df=6)*-1\n",
    "\n",
    "conf_int95 = [(sample_mean- (tstat*math.sqrt(std_dev/len(sample)))) ,(sample_mean+ (tstat*math.sqrt(std_dev/len(sample))))]\n",
    "print (conf_int95)"
   ]
  },
  {
   "cell_type": "markdown",
   "metadata": {},
   "source": [
    "# Bonus challenge\n",
    "The error level or sampling error for the first challenge is given by the following expression:\n",
    "$$Error = z_{\\frac{\\alpha}{2}}\\frac{\\sigma}{\\sqrt n}$$\n",
    "Where z represents the value for N(0,1)\n",
    "\n",
    "\n",
    "Suppose that with the previous data in the challenge 1, and with a confidence level of\n",
    "99% (that is, almost certainly) we want to estimate the average population size, so that the error level committed is not greater than half a centimeter.\n",
    "\n",
    "i) Determine what size the selected sample of men should be."
   ]
  },
  {
   "cell_type": "code",
   "execution_count": 11,
   "metadata": {},
   "outputs": [
    {
     "name": "stdout",
     "output_type": "stream",
     "text": [
      "426\n"
     ]
    }
   ],
   "source": [
    "import math\n",
    "score = 2.58 #this is for 99.5% CI\n",
    "std_dev = 4\n",
    "sample_size = (math.pow((score*std_dev),2)/ math.pow(.5,2))\n",
    "print (round(sample_size))"
   ]
  },
  {
   "cell_type": "markdown",
   "metadata": {},
   "source": [
    "ii) For the second challenge, we have the following error:\n",
    "$$ Error = z_{\\frac{\\alpha}{2}}\\sqrt{\\frac{p\\times q}{n}} $$\n",
    "Determine the sample required to not exceed a certain error"
   ]
  },
  {
   "cell_type": "markdown",
   "metadata": {},
   "source": [
    "For the last case, determine the sample size needed so that the error will not\n",
    "exceed 1%, with a confidence of 80%."
   ]
  },
  {
   "cell_type": "code",
   "execution_count": 12,
   "metadata": {
    "scrolled": true
   },
   "outputs": [
    {
     "name": "stdout",
     "output_type": "stream",
     "text": [
      "4096.0\n"
     ]
    }
   ],
   "source": [
    "score80 = 1.28\n",
    "p_and_q = .5\n",
    "sample_size = (math.pow(score80,2)* (p_and_q*p_and_q)) / math.pow(.01,2)\n",
    "print (round(sample_size))\n"
   ]
  },
  {
   "cell_type": "markdown",
   "metadata": {},
   "source": [
    "# Bonus challenge"
   ]
  },
  {
   "cell_type": "markdown",
   "metadata": {},
   "source": [
    "Let's consider the following problem:\n",
    "\n",
    "Build a confidence interval of 94% for the real difference between the durations of two brands of spotlights, if a sample of 40 spotlights taken randomly from the first mark gave an average duration of 418 hours, and a sample of 50 bulbs of another brand gave a duration average of 402 hours. The standard deviations of the two\n",
    "populations are 26 hours and 22 hours, respectively.\n",
    "\n",
    "Sometimes, we will be interested in the difference of two different groups of random variables. We can also build a confidence interval for that! We have some different cases regarding the variance but for this specific case (the variance are different and known), we have that:\n",
    "\n",
    "$$\\overline{X} - \\overline{Y}  \\sim N(\\mu_{X} - \\mu_{Y} , \\sqrt{\\frac{\\sigma_{X}^2}{n_X}+\\frac{\\sigma_{Y}^2}{n_Y}})$$\n",
    "\n",
    "Solve the problem with this information."
   ]
  },
  {
   "cell_type": "code",
   "execution_count": 15,
   "metadata": {
    "scrolled": true
   },
   "outputs": [
    {
     "name": "stdout",
     "output_type": "stream",
     "text": [
      "[6.30751053650302, 25.69248946349698]\n"
     ]
    }
   ],
   "source": [
    "n_1 = 40\n",
    "ave_1 = 418\n",
    "std_1 = 26\n",
    "\n",
    "n_2 = 50\n",
    "ave_2 = 402\n",
    "std_2 = 22\n",
    "\n",
    "score94 = 1.88\n",
    "\n",
    "conf_int = [((ave_1-ave_2)- score94*(math.sqrt(std_1**2/n_1 + std_2**2/n_2))),((ave_1-ave_2)+ score94*(math.sqrt(std_1**2/n_1 + std_2**2/n_2)))]\n",
    "print (conf_int)"
   ]
  }
 ],
 "metadata": {
  "kernelspec": {
   "display_name": "Python 3",
   "language": "python",
   "name": "python3"
  },
  "language_info": {
   "codemirror_mode": {
    "name": "ipython",
    "version": 3
   },
   "file_extension": ".py",
   "mimetype": "text/x-python",
   "name": "python",
   "nbconvert_exporter": "python",
   "pygments_lexer": "ipython3",
   "version": "3.6.8"
  }
 },
 "nbformat": 4,
 "nbformat_minor": 2
}
